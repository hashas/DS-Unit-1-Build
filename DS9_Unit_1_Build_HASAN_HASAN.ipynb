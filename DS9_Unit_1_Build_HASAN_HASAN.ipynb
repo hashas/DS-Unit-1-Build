{
  "nbformat": 4,
  "nbformat_minor": 0,
  "metadata": {
    "colab": {
      "name": "DS9-Unit-1-Build_HASAN_HASAN.ipynb",
      "provenance": [],
      "include_colab_link": true
    },
    "kernelspec": {
      "name": "python3",
      "display_name": "Python 3"
    }
  },
  "cells": [
    {
      "cell_type": "markdown",
      "metadata": {
        "id": "view-in-github",
        "colab_type": "text"
      },
      "source": [
        "<a href=\"https://colab.research.google.com/github/hashas/DS-Unit-1-Build/blob/master/DS9_Unit_1_Build_HASAN_HASAN.ipynb\" target=\"_parent\"><img src=\"https://colab.research.google.com/assets/colab-badge.svg\" alt=\"Open In Colab\"/></a>"
      ]
    },
    {
      "cell_type": "code",
      "metadata": {
        "id": "PTkpjQhbUNtI",
        "colab_type": "code",
        "outputId": "be84eb30-5f15-4436-8016-e860858b3a7d",
        "colab": {
          "resources": {
            "http://localhost:8080/nbextensions/google.colab/files.js": {
              "data": "Ly8gQ29weXJpZ2h0IDIwMTcgR29vZ2xlIExMQwovLwovLyBMaWNlbnNlZCB1bmRlciB0aGUgQXBhY2hlIExpY2Vuc2UsIFZlcnNpb24gMi4wICh0aGUgIkxpY2Vuc2UiKTsKLy8geW91IG1heSBub3QgdXNlIHRoaXMgZmlsZSBleGNlcHQgaW4gY29tcGxpYW5jZSB3aXRoIHRoZSBMaWNlbnNlLgovLyBZb3UgbWF5IG9idGFpbiBhIGNvcHkgb2YgdGhlIExpY2Vuc2UgYXQKLy8KLy8gICAgICBodHRwOi8vd3d3LmFwYWNoZS5vcmcvbGljZW5zZXMvTElDRU5TRS0yLjAKLy8KLy8gVW5sZXNzIHJlcXVpcmVkIGJ5IGFwcGxpY2FibGUgbGF3IG9yIGFncmVlZCB0byBpbiB3cml0aW5nLCBzb2Z0d2FyZQovLyBkaXN0cmlidXRlZCB1bmRlciB0aGUgTGljZW5zZSBpcyBkaXN0cmlidXRlZCBvbiBhbiAiQVMgSVMiIEJBU0lTLAovLyBXSVRIT1VUIFdBUlJBTlRJRVMgT1IgQ09ORElUSU9OUyBPRiBBTlkgS0lORCwgZWl0aGVyIGV4cHJlc3Mgb3IgaW1wbGllZC4KLy8gU2VlIHRoZSBMaWNlbnNlIGZvciB0aGUgc3BlY2lmaWMgbGFuZ3VhZ2UgZ292ZXJuaW5nIHBlcm1pc3Npb25zIGFuZAovLyBsaW1pdGF0aW9ucyB1bmRlciB0aGUgTGljZW5zZS4KCi8qKgogKiBAZmlsZW92ZXJ2aWV3IEhlbHBlcnMgZm9yIGdvb2dsZS5jb2xhYiBQeXRob24gbW9kdWxlLgogKi8KKGZ1bmN0aW9uKHNjb3BlKSB7CmZ1bmN0aW9uIHNwYW4odGV4dCwgc3R5bGVBdHRyaWJ1dGVzID0ge30pIHsKICBjb25zdCBlbGVtZW50ID0gZG9jdW1lbnQuY3JlYXRlRWxlbWVudCgnc3BhbicpOwogIGVsZW1lbnQudGV4dENvbnRlbnQgPSB0ZXh0OwogIGZvciAoY29uc3Qga2V5IG9mIE9iamVjdC5rZXlzKHN0eWxlQXR0cmlidXRlcykpIHsKICAgIGVsZW1lbnQuc3R5bGVba2V5XSA9IHN0eWxlQXR0cmlidXRlc1trZXldOwogIH0KICByZXR1cm4gZWxlbWVudDsKfQoKLy8gTWF4IG51bWJlciBvZiBieXRlcyB3aGljaCB3aWxsIGJlIHVwbG9hZGVkIGF0IGEgdGltZS4KY29uc3QgTUFYX1BBWUxPQURfU0laRSA9IDEwMCAqIDEwMjQ7Ci8vIE1heCBhbW91bnQgb2YgdGltZSB0byBibG9jayB3YWl0aW5nIGZvciB0aGUgdXNlci4KY29uc3QgRklMRV9DSEFOR0VfVElNRU9VVF9NUyA9IDMwICogMTAwMDsKCmZ1bmN0aW9uIF91cGxvYWRGaWxlcyhpbnB1dElkLCBvdXRwdXRJZCkgewogIGNvbnN0IHN0ZXBzID0gdXBsb2FkRmlsZXNTdGVwKGlucHV0SWQsIG91dHB1dElkKTsKICBjb25zdCBvdXRwdXRFbGVtZW50ID0gZG9jdW1lbnQuZ2V0RWxlbWVudEJ5SWQob3V0cHV0SWQpOwogIC8vIENhY2hlIHN0ZXBzIG9uIHRoZSBvdXRwdXRFbGVtZW50IHRvIG1ha2UgaXQgYXZhaWxhYmxlIGZvciB0aGUgbmV4dCBjYWxsCiAgLy8gdG8gdXBsb2FkRmlsZXNDb250aW51ZSBmcm9tIFB5dGhvbi4KICBvdXRwdXRFbGVtZW50LnN0ZXBzID0gc3RlcHM7CgogIHJldHVybiBfdXBsb2FkRmlsZXNDb250aW51ZShvdXRwdXRJZCk7Cn0KCi8vIFRoaXMgaXMgcm91Z2hseSBhbiBhc3luYyBnZW5lcmF0b3IgKG5vdCBzdXBwb3J0ZWQgaW4gdGhlIGJyb3dzZXIgeWV0KSwKLy8gd2hlcmUgdGhlcmUgYXJlIG11bHRpcGxlIGFzeW5jaHJvbm91cyBzdGVwcyBhbmQgdGhlIFB5dGhvbiBzaWRlIGlzIGdvaW5nCi8vIHRvIHBvbGwgZm9yIGNvbXBsZXRpb24gb2YgZWFjaCBzdGVwLgovLyBUaGlzIHVzZXMgYSBQcm9taXNlIHRvIGJsb2NrIHRoZSBweXRob24gc2lkZSBvbiBjb21wbGV0aW9uIG9mIGVhY2ggc3RlcCwKLy8gdGhlbiBwYXNzZXMgdGhlIHJlc3VsdCBvZiB0aGUgcHJldmlvdXMgc3RlcCBhcyB0aGUgaW5wdXQgdG8gdGhlIG5leHQgc3RlcC4KZnVuY3Rpb24gX3VwbG9hZEZpbGVzQ29udGludWUob3V0cHV0SWQpIHsKICBjb25zdCBvdXRwdXRFbGVtZW50ID0gZG9jdW1lbnQuZ2V0RWxlbWVudEJ5SWQob3V0cHV0SWQpOwogIGNvbnN0IHN0ZXBzID0gb3V0cHV0RWxlbWVudC5zdGVwczsKCiAgY29uc3QgbmV4dCA9IHN0ZXBzLm5leHQob3V0cHV0RWxlbWVudC5sYXN0UHJvbWlzZVZhbHVlKTsKICByZXR1cm4gUHJvbWlzZS5yZXNvbHZlKG5leHQudmFsdWUucHJvbWlzZSkudGhlbigodmFsdWUpID0+IHsKICAgIC8vIENhY2hlIHRoZSBsYXN0IHByb21pc2UgdmFsdWUgdG8gbWFrZSBpdCBhdmFpbGFibGUgdG8gdGhlIG5leHQKICAgIC8vIHN0ZXAgb2YgdGhlIGdlbmVyYXRvci4KICAgIG91dHB1dEVsZW1lbnQubGFzdFByb21pc2VWYWx1ZSA9IHZhbHVlOwogICAgcmV0dXJuIG5leHQudmFsdWUucmVzcG9uc2U7CiAgfSk7Cn0KCi8qKgogKiBHZW5lcmF0b3IgZnVuY3Rpb24gd2hpY2ggaXMgY2FsbGVkIGJldHdlZW4gZWFjaCBhc3luYyBzdGVwIG9mIHRoZSB1cGxvYWQKICogcHJvY2Vzcy4KICogQHBhcmFtIHtzdHJpbmd9IGlucHV0SWQgRWxlbWVudCBJRCBvZiB0aGUgaW5wdXQgZmlsZSBwaWNrZXIgZWxlbWVudC4KICogQHBhcmFtIHtzdHJpbmd9IG91dHB1dElkIEVsZW1lbnQgSUQgb2YgdGhlIG91dHB1dCBkaXNwbGF5LgogKiBAcmV0dXJuIHshSXRlcmFibGU8IU9iamVjdD59IEl0ZXJhYmxlIG9mIG5leHQgc3RlcHMuCiAqLwpmdW5jdGlvbiogdXBsb2FkRmlsZXNTdGVwKGlucHV0SWQsIG91dHB1dElkKSB7CiAgY29uc3QgaW5wdXRFbGVtZW50ID0gZG9jdW1lbnQuZ2V0RWxlbWVudEJ5SWQoaW5wdXRJZCk7CiAgaW5wdXRFbGVtZW50LmRpc2FibGVkID0gZmFsc2U7CgogIGNvbnN0IG91dHB1dEVsZW1lbnQgPSBkb2N1bWVudC5nZXRFbGVtZW50QnlJZChvdXRwdXRJZCk7CiAgb3V0cHV0RWxlbWVudC5pbm5lckhUTUwgPSAnJzsKCiAgY29uc3QgcGlja2VkUHJvbWlzZSA9IG5ldyBQcm9taXNlKChyZXNvbHZlKSA9PiB7CiAgICBpbnB1dEVsZW1lbnQuYWRkRXZlbnRMaXN0ZW5lcignY2hhbmdlJywgKGUpID0+IHsKICAgICAgcmVzb2x2ZShlLnRhcmdldC5maWxlcyk7CiAgICB9KTsKICB9KTsKCiAgY29uc3QgY2FuY2VsID0gZG9jdW1lbnQuY3JlYXRlRWxlbWVudCgnYnV0dG9uJyk7CiAgaW5wdXRFbGVtZW50LnBhcmVudEVsZW1lbnQuYXBwZW5kQ2hpbGQoY2FuY2VsKTsKICBjYW5jZWwudGV4dENvbnRlbnQgPSAnQ2FuY2VsIHVwbG9hZCc7CiAgY29uc3QgY2FuY2VsUHJvbWlzZSA9IG5ldyBQcm9taXNlKChyZXNvbHZlKSA9PiB7CiAgICBjYW5jZWwub25jbGljayA9ICgpID0+IHsKICAgICAgcmVzb2x2ZShudWxsKTsKICAgIH07CiAgfSk7CgogIC8vIENhbmNlbCB1cGxvYWQgaWYgdXNlciBoYXNuJ3QgcGlja2VkIGFueXRoaW5nIGluIHRpbWVvdXQuCiAgY29uc3QgdGltZW91dFByb21pc2UgPSBuZXcgUHJvbWlzZSgocmVzb2x2ZSkgPT4gewogICAgc2V0VGltZW91dCgoKSA9PiB7CiAgICAgIHJlc29sdmUobnVsbCk7CiAgICB9LCBGSUxFX0NIQU5HRV9USU1FT1VUX01TKTsKICB9KTsKCiAgLy8gV2FpdCBmb3IgdGhlIHVzZXIgdG8gcGljayB0aGUgZmlsZXMuCiAgY29uc3QgZmlsZXMgPSB5aWVsZCB7CiAgICBwcm9taXNlOiBQcm9taXNlLnJhY2UoW3BpY2tlZFByb21pc2UsIHRpbWVvdXRQcm9taXNlLCBjYW5jZWxQcm9taXNlXSksCiAgICByZXNwb25zZTogewogICAgICBhY3Rpb246ICdzdGFydGluZycsCiAgICB9CiAgfTsKCiAgaWYgKCFmaWxlcykgewogICAgcmV0dXJuIHsKICAgICAgcmVzcG9uc2U6IHsKICAgICAgICBhY3Rpb246ICdjb21wbGV0ZScsCiAgICAgIH0KICAgIH07CiAgfQoKICBjYW5jZWwucmVtb3ZlKCk7CgogIC8vIERpc2FibGUgdGhlIGlucHV0IGVsZW1lbnQgc2luY2UgZnVydGhlciBwaWNrcyBhcmUgbm90IGFsbG93ZWQuCiAgaW5wdXRFbGVtZW50LmRpc2FibGVkID0gdHJ1ZTsKCiAgZm9yIChjb25zdCBmaWxlIG9mIGZpbGVzKSB7CiAgICBjb25zdCBsaSA9IGRvY3VtZW50LmNyZWF0ZUVsZW1lbnQoJ2xpJyk7CiAgICBsaS5hcHBlbmQoc3BhbihmaWxlLm5hbWUsIHtmb250V2VpZ2h0OiAnYm9sZCd9KSk7CiAgICBsaS5hcHBlbmQoc3BhbigKICAgICAgICBgKCR7ZmlsZS50eXBlIHx8ICduL2EnfSkgLSAke2ZpbGUuc2l6ZX0gYnl0ZXMsIGAgKwogICAgICAgIGBsYXN0IG1vZGlmaWVkOiAkewogICAgICAgICAgICBmaWxlLmxhc3RNb2RpZmllZERhdGUgPyBmaWxlLmxhc3RNb2RpZmllZERhdGUudG9Mb2NhbGVEYXRlU3RyaW5nKCkgOgogICAgICAgICAgICAgICAgICAgICAgICAgICAgICAgICAgICAnbi9hJ30gLSBgKSk7CiAgICBjb25zdCBwZXJjZW50ID0gc3BhbignMCUgZG9uZScpOwogICAgbGkuYXBwZW5kQ2hpbGQocGVyY2VudCk7CgogICAgb3V0cHV0RWxlbWVudC5hcHBlbmRDaGlsZChsaSk7CgogICAgY29uc3QgZmlsZURhdGFQcm9taXNlID0gbmV3IFByb21pc2UoKHJlc29sdmUpID0+IHsKICAgICAgY29uc3QgcmVhZGVyID0gbmV3IEZpbGVSZWFkZXIoKTsKICAgICAgcmVhZGVyLm9ubG9hZCA9IChlKSA9PiB7CiAgICAgICAgcmVzb2x2ZShlLnRhcmdldC5yZXN1bHQpOwogICAgICB9OwogICAgICByZWFkZXIucmVhZEFzQXJyYXlCdWZmZXIoZmlsZSk7CiAgICB9KTsKICAgIC8vIFdhaXQgZm9yIHRoZSBkYXRhIHRvIGJlIHJlYWR5LgogICAgbGV0IGZpbGVEYXRhID0geWllbGQgewogICAgICBwcm9taXNlOiBmaWxlRGF0YVByb21pc2UsCiAgICAgIHJlc3BvbnNlOiB7CiAgICAgICAgYWN0aW9uOiAnY29udGludWUnLAogICAgICB9CiAgICB9OwoKICAgIC8vIFVzZSBhIGNodW5rZWQgc2VuZGluZyB0byBhdm9pZCBtZXNzYWdlIHNpemUgbGltaXRzLiBTZWUgYi82MjExNTY2MC4KICAgIGxldCBwb3NpdGlvbiA9IDA7CiAgICB3aGlsZSAocG9zaXRpb24gPCBmaWxlRGF0YS5ieXRlTGVuZ3RoKSB7CiAgICAgIGNvbnN0IGxlbmd0aCA9IE1hdGgubWluKGZpbGVEYXRhLmJ5dGVMZW5ndGggLSBwb3NpdGlvbiwgTUFYX1BBWUxPQURfU0laRSk7CiAgICAgIGNvbnN0IGNodW5rID0gbmV3IFVpbnQ4QXJyYXkoZmlsZURhdGEsIHBvc2l0aW9uLCBsZW5ndGgpOwogICAgICBwb3NpdGlvbiArPSBsZW5ndGg7CgogICAgICBjb25zdCBiYXNlNjQgPSBidG9hKFN0cmluZy5mcm9tQ2hhckNvZGUuYXBwbHkobnVsbCwgY2h1bmspKTsKICAgICAgeWllbGQgewogICAgICAgIHJlc3BvbnNlOiB7CiAgICAgICAgICBhY3Rpb246ICdhcHBlbmQnLAogICAgICAgICAgZmlsZTogZmlsZS5uYW1lLAogICAgICAgICAgZGF0YTogYmFzZTY0LAogICAgICAgIH0sCiAgICAgIH07CiAgICAgIHBlcmNlbnQudGV4dENvbnRlbnQgPQogICAgICAgICAgYCR7TWF0aC5yb3VuZCgocG9zaXRpb24gLyBmaWxlRGF0YS5ieXRlTGVuZ3RoKSAqIDEwMCl9JSBkb25lYDsKICAgIH0KICB9CgogIC8vIEFsbCBkb25lLgogIHlpZWxkIHsKICAgIHJlc3BvbnNlOiB7CiAgICAgIGFjdGlvbjogJ2NvbXBsZXRlJywKICAgIH0KICB9Owp9CgpzY29wZS5nb29nbGUgPSBzY29wZS5nb29nbGUgfHwge307CnNjb3BlLmdvb2dsZS5jb2xhYiA9IHNjb3BlLmdvb2dsZS5jb2xhYiB8fCB7fTsKc2NvcGUuZ29vZ2xlLmNvbGFiLl9maWxlcyA9IHsKICBfdXBsb2FkRmlsZXMsCiAgX3VwbG9hZEZpbGVzQ29udGludWUsCn07Cn0pKHNlbGYpOwo=",
              "ok": true,
              "headers": [
                [
                  "content-type",
                  "application/javascript"
                ]
              ],
              "status": 200,
              "status_text": ""
            }
          },
          "base_uri": "https://localhost:8080/",
          "height": 71
        }
      },
      "source": [
        "from google.colab import files\n",
        "uploaded = files.upload()"
      ],
      "execution_count": 134,
      "outputs": [
        {
          "output_type": "display_data",
          "data": {
            "text/html": [
              "\n",
              "     <input type=\"file\" id=\"files-385cd42c-f49a-45a7-ab98-94246d5cf9b7\" name=\"files[]\" multiple disabled />\n",
              "     <output id=\"result-385cd42c-f49a-45a7-ab98-94246d5cf9b7\">\n",
              "      Upload widget is only available when the cell has been executed in the\n",
              "      current browser session. Please rerun this cell to enable.\n",
              "      </output>\n",
              "      <script src=\"/nbextensions/google.colab/files.js\"></script> "
            ],
            "text/plain": [
              "<IPython.core.display.HTML object>"
            ]
          },
          "metadata": {
            "tags": []
          }
        },
        {
          "output_type": "stream",
          "text": [
            "Saving epldata_final.csv to epldata_final (1).csv\n"
          ],
          "name": "stdout"
        }
      ]
    },
    {
      "cell_type": "markdown",
      "metadata": {
        "id": "Cf4tA0Dg550i",
        "colab_type": "text"
      },
      "source": [
        "# Data Exploration"
      ]
    },
    {
      "cell_type": "code",
      "metadata": {
        "id": "3zJLtDcWUhSG",
        "colab_type": "code",
        "outputId": "4efc1ff7-efe9-4cb9-e0e8-c38b650fa8cd",
        "colab": {
          "base_uri": "https://localhost:8080/",
          "height": 309
        }
      },
      "source": [
        "# data exploration\n",
        "\n",
        "import pandas as pd\n",
        "df = pd.read_csv('epldata_final.csv')\n",
        "df.head()"
      ],
      "execution_count": 135,
      "outputs": [
        {
          "output_type": "execute_result",
          "data": {
            "text/html": [
              "<div>\n",
              "<style scoped>\n",
              "    .dataframe tbody tr th:only-of-type {\n",
              "        vertical-align: middle;\n",
              "    }\n",
              "\n",
              "    .dataframe tbody tr th {\n",
              "        vertical-align: top;\n",
              "    }\n",
              "\n",
              "    .dataframe thead th {\n",
              "        text-align: right;\n",
              "    }\n",
              "</style>\n",
              "<table border=\"1\" class=\"dataframe\">\n",
              "  <thead>\n",
              "    <tr style=\"text-align: right;\">\n",
              "      <th></th>\n",
              "      <th>name</th>\n",
              "      <th>club</th>\n",
              "      <th>age</th>\n",
              "      <th>position</th>\n",
              "      <th>position_cat</th>\n",
              "      <th>market_value</th>\n",
              "      <th>page_views</th>\n",
              "      <th>fpl_value</th>\n",
              "      <th>fpl_sel</th>\n",
              "      <th>fpl_points</th>\n",
              "      <th>region</th>\n",
              "      <th>nationality</th>\n",
              "      <th>new_foreign</th>\n",
              "      <th>age_cat</th>\n",
              "      <th>club_id</th>\n",
              "      <th>big_club</th>\n",
              "      <th>new_signing</th>\n",
              "    </tr>\n",
              "  </thead>\n",
              "  <tbody>\n",
              "    <tr>\n",
              "      <th>0</th>\n",
              "      <td>Alexis Sanchez</td>\n",
              "      <td>Arsenal</td>\n",
              "      <td>28</td>\n",
              "      <td>LW</td>\n",
              "      <td>1</td>\n",
              "      <td>65.0</td>\n",
              "      <td>4329</td>\n",
              "      <td>12.0</td>\n",
              "      <td>17.10%</td>\n",
              "      <td>264</td>\n",
              "      <td>3.0</td>\n",
              "      <td>Chile</td>\n",
              "      <td>0</td>\n",
              "      <td>4</td>\n",
              "      <td>1</td>\n",
              "      <td>1</td>\n",
              "      <td>0</td>\n",
              "    </tr>\n",
              "    <tr>\n",
              "      <th>1</th>\n",
              "      <td>Mesut Ozil</td>\n",
              "      <td>Arsenal</td>\n",
              "      <td>28</td>\n",
              "      <td>AM</td>\n",
              "      <td>1</td>\n",
              "      <td>50.0</td>\n",
              "      <td>4395</td>\n",
              "      <td>9.5</td>\n",
              "      <td>5.60%</td>\n",
              "      <td>167</td>\n",
              "      <td>2.0</td>\n",
              "      <td>Germany</td>\n",
              "      <td>0</td>\n",
              "      <td>4</td>\n",
              "      <td>1</td>\n",
              "      <td>1</td>\n",
              "      <td>0</td>\n",
              "    </tr>\n",
              "    <tr>\n",
              "      <th>2</th>\n",
              "      <td>Petr Cech</td>\n",
              "      <td>Arsenal</td>\n",
              "      <td>35</td>\n",
              "      <td>GK</td>\n",
              "      <td>4</td>\n",
              "      <td>7.0</td>\n",
              "      <td>1529</td>\n",
              "      <td>5.5</td>\n",
              "      <td>5.90%</td>\n",
              "      <td>134</td>\n",
              "      <td>2.0</td>\n",
              "      <td>Czech Republic</td>\n",
              "      <td>0</td>\n",
              "      <td>6</td>\n",
              "      <td>1</td>\n",
              "      <td>1</td>\n",
              "      <td>0</td>\n",
              "    </tr>\n",
              "    <tr>\n",
              "      <th>3</th>\n",
              "      <td>Theo Walcott</td>\n",
              "      <td>Arsenal</td>\n",
              "      <td>28</td>\n",
              "      <td>RW</td>\n",
              "      <td>1</td>\n",
              "      <td>20.0</td>\n",
              "      <td>2393</td>\n",
              "      <td>7.5</td>\n",
              "      <td>1.50%</td>\n",
              "      <td>122</td>\n",
              "      <td>1.0</td>\n",
              "      <td>England</td>\n",
              "      <td>0</td>\n",
              "      <td>4</td>\n",
              "      <td>1</td>\n",
              "      <td>1</td>\n",
              "      <td>0</td>\n",
              "    </tr>\n",
              "    <tr>\n",
              "      <th>4</th>\n",
              "      <td>Laurent Koscielny</td>\n",
              "      <td>Arsenal</td>\n",
              "      <td>31</td>\n",
              "      <td>CB</td>\n",
              "      <td>3</td>\n",
              "      <td>22.0</td>\n",
              "      <td>912</td>\n",
              "      <td>6.0</td>\n",
              "      <td>0.70%</td>\n",
              "      <td>121</td>\n",
              "      <td>2.0</td>\n",
              "      <td>France</td>\n",
              "      <td>0</td>\n",
              "      <td>4</td>\n",
              "      <td>1</td>\n",
              "      <td>1</td>\n",
              "      <td>0</td>\n",
              "    </tr>\n",
              "  </tbody>\n",
              "</table>\n",
              "</div>"
            ],
            "text/plain": [
              "                name     club  age  ... club_id  big_club  new_signing\n",
              "0     Alexis Sanchez  Arsenal   28  ...       1         1            0\n",
              "1         Mesut Ozil  Arsenal   28  ...       1         1            0\n",
              "2          Petr Cech  Arsenal   35  ...       1         1            0\n",
              "3       Theo Walcott  Arsenal   28  ...       1         1            0\n",
              "4  Laurent Koscielny  Arsenal   31  ...       1         1            0\n",
              "\n",
              "[5 rows x 17 columns]"
            ]
          },
          "metadata": {
            "tags": []
          },
          "execution_count": 135
        }
      ]
    },
    {
      "cell_type": "code",
      "metadata": {
        "id": "0LAVNrmD5ABt",
        "colab_type": "code",
        "outputId": "1986488c-085d-4935-c6cb-b63fe7bd5954",
        "colab": {
          "base_uri": "https://localhost:8080/",
          "height": 309
        }
      },
      "source": [
        "df.tail()"
      ],
      "execution_count": 137,
      "outputs": [
        {
          "output_type": "execute_result",
          "data": {
            "text/html": [
              "<div>\n",
              "<style scoped>\n",
              "    .dataframe tbody tr th:only-of-type {\n",
              "        vertical-align: middle;\n",
              "    }\n",
              "\n",
              "    .dataframe tbody tr th {\n",
              "        vertical-align: top;\n",
              "    }\n",
              "\n",
              "    .dataframe thead th {\n",
              "        text-align: right;\n",
              "    }\n",
              "</style>\n",
              "<table border=\"1\" class=\"dataframe\">\n",
              "  <thead>\n",
              "    <tr style=\"text-align: right;\">\n",
              "      <th></th>\n",
              "      <th>name</th>\n",
              "      <th>club</th>\n",
              "      <th>age</th>\n",
              "      <th>position</th>\n",
              "      <th>position_cat</th>\n",
              "      <th>market_value</th>\n",
              "      <th>page_views</th>\n",
              "      <th>fpl_value</th>\n",
              "      <th>fpl_sel</th>\n",
              "      <th>fpl_points</th>\n",
              "      <th>region</th>\n",
              "      <th>nationality</th>\n",
              "      <th>new_foreign</th>\n",
              "      <th>age_cat</th>\n",
              "      <th>club_id</th>\n",
              "      <th>big_club</th>\n",
              "      <th>new_signing</th>\n",
              "    </tr>\n",
              "  </thead>\n",
              "  <tbody>\n",
              "    <tr>\n",
              "      <th>456</th>\n",
              "      <td>Edimilson Fernandes</td>\n",
              "      <td>West+Ham</td>\n",
              "      <td>21</td>\n",
              "      <td>CM</td>\n",
              "      <td>2</td>\n",
              "      <td>5.0</td>\n",
              "      <td>288</td>\n",
              "      <td>4.5</td>\n",
              "      <td>0.40%</td>\n",
              "      <td>38</td>\n",
              "      <td>2.0</td>\n",
              "      <td>Switzerland</td>\n",
              "      <td>0</td>\n",
              "      <td>1</td>\n",
              "      <td>20</td>\n",
              "      <td>0</td>\n",
              "      <td>1</td>\n",
              "    </tr>\n",
              "    <tr>\n",
              "      <th>457</th>\n",
              "      <td>Arthur Masuaku</td>\n",
              "      <td>West+Ham</td>\n",
              "      <td>23</td>\n",
              "      <td>LB</td>\n",
              "      <td>3</td>\n",
              "      <td>7.0</td>\n",
              "      <td>199</td>\n",
              "      <td>4.5</td>\n",
              "      <td>0.20%</td>\n",
              "      <td>34</td>\n",
              "      <td>4.0</td>\n",
              "      <td>Congo DR</td>\n",
              "      <td>0</td>\n",
              "      <td>2</td>\n",
              "      <td>20</td>\n",
              "      <td>0</td>\n",
              "      <td>1</td>\n",
              "    </tr>\n",
              "    <tr>\n",
              "      <th>458</th>\n",
              "      <td>Sam Byram</td>\n",
              "      <td>West+Ham</td>\n",
              "      <td>23</td>\n",
              "      <td>RB</td>\n",
              "      <td>3</td>\n",
              "      <td>4.5</td>\n",
              "      <td>198</td>\n",
              "      <td>4.5</td>\n",
              "      <td>0.30%</td>\n",
              "      <td>29</td>\n",
              "      <td>1.0</td>\n",
              "      <td>England</td>\n",
              "      <td>0</td>\n",
              "      <td>2</td>\n",
              "      <td>20</td>\n",
              "      <td>0</td>\n",
              "      <td>0</td>\n",
              "    </tr>\n",
              "    <tr>\n",
              "      <th>459</th>\n",
              "      <td>Ashley Fletcher</td>\n",
              "      <td>West+Ham</td>\n",
              "      <td>21</td>\n",
              "      <td>CF</td>\n",
              "      <td>1</td>\n",
              "      <td>1.0</td>\n",
              "      <td>412</td>\n",
              "      <td>4.5</td>\n",
              "      <td>5.90%</td>\n",
              "      <td>16</td>\n",
              "      <td>1.0</td>\n",
              "      <td>England</td>\n",
              "      <td>0</td>\n",
              "      <td>1</td>\n",
              "      <td>20</td>\n",
              "      <td>0</td>\n",
              "      <td>1</td>\n",
              "    </tr>\n",
              "    <tr>\n",
              "      <th>460</th>\n",
              "      <td>Diafra Sakho</td>\n",
              "      <td>West+Ham</td>\n",
              "      <td>27</td>\n",
              "      <td>CF</td>\n",
              "      <td>1</td>\n",
              "      <td>10.0</td>\n",
              "      <td>214</td>\n",
              "      <td>5.5</td>\n",
              "      <td>0.10%</td>\n",
              "      <td>12</td>\n",
              "      <td>4.0</td>\n",
              "      <td>Senegal</td>\n",
              "      <td>0</td>\n",
              "      <td>3</td>\n",
              "      <td>20</td>\n",
              "      <td>0</td>\n",
              "      <td>0</td>\n",
              "    </tr>\n",
              "  </tbody>\n",
              "</table>\n",
              "</div>"
            ],
            "text/plain": [
              "                    name      club  age  ... club_id  big_club  new_signing\n",
              "456  Edimilson Fernandes  West+Ham   21  ...      20         0            1\n",
              "457       Arthur Masuaku  West+Ham   23  ...      20         0            1\n",
              "458            Sam Byram  West+Ham   23  ...      20         0            0\n",
              "459      Ashley Fletcher  West+Ham   21  ...      20         0            1\n",
              "460         Diafra Sakho  West+Ham   27  ...      20         0            0\n",
              "\n",
              "[5 rows x 17 columns]"
            ]
          },
          "metadata": {
            "tags": []
          },
          "execution_count": 137
        }
      ]
    },
    {
      "cell_type": "code",
      "metadata": {
        "id": "e7ZViYcoVPiG",
        "colab_type": "code",
        "outputId": "1bd759ba-e76e-45b6-96b0-7af4fcc053cb",
        "colab": {
          "base_uri": "https://localhost:8080/",
          "height": 34
        }
      },
      "source": [
        "df.shape"
      ],
      "execution_count": 139,
      "outputs": [
        {
          "output_type": "execute_result",
          "data": {
            "text/plain": [
              "(461, 17)"
            ]
          },
          "metadata": {
            "tags": []
          },
          "execution_count": 139
        }
      ]
    },
    {
      "cell_type": "code",
      "metadata": {
        "id": "m58doMQl40rF",
        "colab_type": "code",
        "outputId": "16b23021-900f-4459-e3c7-c05c2ca264a5",
        "colab": {
          "base_uri": "https://localhost:8080/",
          "height": 317
        }
      },
      "source": [
        "df.describe()"
      ],
      "execution_count": 140,
      "outputs": [
        {
          "output_type": "execute_result",
          "data": {
            "text/html": [
              "<div>\n",
              "<style scoped>\n",
              "    .dataframe tbody tr th:only-of-type {\n",
              "        vertical-align: middle;\n",
              "    }\n",
              "\n",
              "    .dataframe tbody tr th {\n",
              "        vertical-align: top;\n",
              "    }\n",
              "\n",
              "    .dataframe thead th {\n",
              "        text-align: right;\n",
              "    }\n",
              "</style>\n",
              "<table border=\"1\" class=\"dataframe\">\n",
              "  <thead>\n",
              "    <tr style=\"text-align: right;\">\n",
              "      <th></th>\n",
              "      <th>age</th>\n",
              "      <th>position_cat</th>\n",
              "      <th>market_value</th>\n",
              "      <th>page_views</th>\n",
              "      <th>fpl_value</th>\n",
              "      <th>fpl_points</th>\n",
              "      <th>region</th>\n",
              "      <th>new_foreign</th>\n",
              "      <th>age_cat</th>\n",
              "      <th>club_id</th>\n",
              "      <th>big_club</th>\n",
              "      <th>new_signing</th>\n",
              "    </tr>\n",
              "  </thead>\n",
              "  <tbody>\n",
              "    <tr>\n",
              "      <th>count</th>\n",
              "      <td>461.000000</td>\n",
              "      <td>461.000000</td>\n",
              "      <td>461.000000</td>\n",
              "      <td>461.000000</td>\n",
              "      <td>461.000000</td>\n",
              "      <td>461.000000</td>\n",
              "      <td>460.000000</td>\n",
              "      <td>461.000000</td>\n",
              "      <td>461.000000</td>\n",
              "      <td>461.000000</td>\n",
              "      <td>461.000000</td>\n",
              "      <td>461.000000</td>\n",
              "    </tr>\n",
              "    <tr>\n",
              "      <th>mean</th>\n",
              "      <td>26.804772</td>\n",
              "      <td>2.180043</td>\n",
              "      <td>11.012039</td>\n",
              "      <td>763.776573</td>\n",
              "      <td>5.447939</td>\n",
              "      <td>57.314534</td>\n",
              "      <td>1.993478</td>\n",
              "      <td>0.034707</td>\n",
              "      <td>3.206074</td>\n",
              "      <td>10.334056</td>\n",
              "      <td>0.303688</td>\n",
              "      <td>0.145336</td>\n",
              "    </tr>\n",
              "    <tr>\n",
              "      <th>std</th>\n",
              "      <td>3.961892</td>\n",
              "      <td>1.000061</td>\n",
              "      <td>12.257403</td>\n",
              "      <td>931.805757</td>\n",
              "      <td>1.346695</td>\n",
              "      <td>53.113811</td>\n",
              "      <td>0.957689</td>\n",
              "      <td>0.183236</td>\n",
              "      <td>1.279795</td>\n",
              "      <td>5.726475</td>\n",
              "      <td>0.460349</td>\n",
              "      <td>0.352822</td>\n",
              "    </tr>\n",
              "    <tr>\n",
              "      <th>min</th>\n",
              "      <td>17.000000</td>\n",
              "      <td>1.000000</td>\n",
              "      <td>0.050000</td>\n",
              "      <td>3.000000</td>\n",
              "      <td>4.000000</td>\n",
              "      <td>0.000000</td>\n",
              "      <td>1.000000</td>\n",
              "      <td>0.000000</td>\n",
              "      <td>1.000000</td>\n",
              "      <td>1.000000</td>\n",
              "      <td>0.000000</td>\n",
              "      <td>0.000000</td>\n",
              "    </tr>\n",
              "    <tr>\n",
              "      <th>25%</th>\n",
              "      <td>24.000000</td>\n",
              "      <td>1.000000</td>\n",
              "      <td>3.000000</td>\n",
              "      <td>220.000000</td>\n",
              "      <td>4.500000</td>\n",
              "      <td>5.000000</td>\n",
              "      <td>1.000000</td>\n",
              "      <td>0.000000</td>\n",
              "      <td>2.000000</td>\n",
              "      <td>6.000000</td>\n",
              "      <td>0.000000</td>\n",
              "      <td>0.000000</td>\n",
              "    </tr>\n",
              "    <tr>\n",
              "      <th>50%</th>\n",
              "      <td>27.000000</td>\n",
              "      <td>2.000000</td>\n",
              "      <td>7.000000</td>\n",
              "      <td>460.000000</td>\n",
              "      <td>5.000000</td>\n",
              "      <td>51.000000</td>\n",
              "      <td>2.000000</td>\n",
              "      <td>0.000000</td>\n",
              "      <td>3.000000</td>\n",
              "      <td>10.000000</td>\n",
              "      <td>0.000000</td>\n",
              "      <td>0.000000</td>\n",
              "    </tr>\n",
              "    <tr>\n",
              "      <th>75%</th>\n",
              "      <td>30.000000</td>\n",
              "      <td>3.000000</td>\n",
              "      <td>15.000000</td>\n",
              "      <td>896.000000</td>\n",
              "      <td>5.500000</td>\n",
              "      <td>94.000000</td>\n",
              "      <td>2.000000</td>\n",
              "      <td>0.000000</td>\n",
              "      <td>4.000000</td>\n",
              "      <td>15.000000</td>\n",
              "      <td>1.000000</td>\n",
              "      <td>0.000000</td>\n",
              "    </tr>\n",
              "    <tr>\n",
              "      <th>max</th>\n",
              "      <td>38.000000</td>\n",
              "      <td>4.000000</td>\n",
              "      <td>75.000000</td>\n",
              "      <td>7664.000000</td>\n",
              "      <td>12.500000</td>\n",
              "      <td>264.000000</td>\n",
              "      <td>4.000000</td>\n",
              "      <td>1.000000</td>\n",
              "      <td>6.000000</td>\n",
              "      <td>20.000000</td>\n",
              "      <td>1.000000</td>\n",
              "      <td>1.000000</td>\n",
              "    </tr>\n",
              "  </tbody>\n",
              "</table>\n",
              "</div>"
            ],
            "text/plain": [
              "              age  position_cat  ...    big_club  new_signing\n",
              "count  461.000000    461.000000  ...  461.000000   461.000000\n",
              "mean    26.804772      2.180043  ...    0.303688     0.145336\n",
              "std      3.961892      1.000061  ...    0.460349     0.352822\n",
              "min     17.000000      1.000000  ...    0.000000     0.000000\n",
              "25%     24.000000      1.000000  ...    0.000000     0.000000\n",
              "50%     27.000000      2.000000  ...    0.000000     0.000000\n",
              "75%     30.000000      3.000000  ...    1.000000     0.000000\n",
              "max     38.000000      4.000000  ...    1.000000     1.000000\n",
              "\n",
              "[8 rows x 12 columns]"
            ]
          },
          "metadata": {
            "tags": []
          },
          "execution_count": 140
        }
      ]
    },
    {
      "cell_type": "code",
      "metadata": {
        "id": "EEdZ9KRR5nFL",
        "colab_type": "code",
        "outputId": "2118c9f8-633f-4d1b-dc29-4f73a29d6642",
        "colab": {
          "base_uri": "https://localhost:8080/",
          "height": 173
        }
      },
      "source": [
        "df.describe(exclude='number')"
      ],
      "execution_count": 141,
      "outputs": [
        {
          "output_type": "execute_result",
          "data": {
            "text/html": [
              "<div>\n",
              "<style scoped>\n",
              "    .dataframe tbody tr th:only-of-type {\n",
              "        vertical-align: middle;\n",
              "    }\n",
              "\n",
              "    .dataframe tbody tr th {\n",
              "        vertical-align: top;\n",
              "    }\n",
              "\n",
              "    .dataframe thead th {\n",
              "        text-align: right;\n",
              "    }\n",
              "</style>\n",
              "<table border=\"1\" class=\"dataframe\">\n",
              "  <thead>\n",
              "    <tr style=\"text-align: right;\">\n",
              "      <th></th>\n",
              "      <th>name</th>\n",
              "      <th>club</th>\n",
              "      <th>position</th>\n",
              "      <th>fpl_sel</th>\n",
              "      <th>nationality</th>\n",
              "    </tr>\n",
              "  </thead>\n",
              "  <tbody>\n",
              "    <tr>\n",
              "      <th>count</th>\n",
              "      <td>461</td>\n",
              "      <td>461</td>\n",
              "      <td>461</td>\n",
              "      <td>461</td>\n",
              "      <td>461</td>\n",
              "    </tr>\n",
              "    <tr>\n",
              "      <th>unique</th>\n",
              "      <td>461</td>\n",
              "      <td>20</td>\n",
              "      <td>13</td>\n",
              "      <td>113</td>\n",
              "      <td>61</td>\n",
              "    </tr>\n",
              "    <tr>\n",
              "      <th>top</th>\n",
              "      <td>Kelechi Iheanacho</td>\n",
              "      <td>Huddersfield</td>\n",
              "      <td>CB</td>\n",
              "      <td>0.10%</td>\n",
              "      <td>England</td>\n",
              "    </tr>\n",
              "    <tr>\n",
              "      <th>freq</th>\n",
              "      <td>1</td>\n",
              "      <td>28</td>\n",
              "      <td>85</td>\n",
              "      <td>64</td>\n",
              "      <td>156</td>\n",
              "    </tr>\n",
              "  </tbody>\n",
              "</table>\n",
              "</div>"
            ],
            "text/plain": [
              "                     name          club position fpl_sel nationality\n",
              "count                 461           461      461     461         461\n",
              "unique                461            20       13     113          61\n",
              "top     Kelechi Iheanacho  Huddersfield       CB   0.10%     England\n",
              "freq                    1            28       85      64         156"
            ]
          },
          "metadata": {
            "tags": []
          },
          "execution_count": 141
        }
      ]
    },
    {
      "cell_type": "code",
      "metadata": {
        "id": "8J7qwM7942tD",
        "colab_type": "code",
        "outputId": "5f31cbb0-15d6-41f8-e1eb-ec908906daf8",
        "colab": {
          "base_uri": "https://localhost:8080/",
          "height": 323
        }
      },
      "source": [
        "df.dtypes"
      ],
      "execution_count": 142,
      "outputs": [
        {
          "output_type": "execute_result",
          "data": {
            "text/plain": [
              "name             object\n",
              "club             object\n",
              "age               int64\n",
              "position         object\n",
              "position_cat      int64\n",
              "market_value    float64\n",
              "page_views        int64\n",
              "fpl_value       float64\n",
              "fpl_sel          object\n",
              "fpl_points        int64\n",
              "region          float64\n",
              "nationality      object\n",
              "new_foreign       int64\n",
              "age_cat           int64\n",
              "club_id           int64\n",
              "big_club          int64\n",
              "new_signing       int64\n",
              "dtype: object"
            ]
          },
          "metadata": {
            "tags": []
          },
          "execution_count": 142
        }
      ]
    },
    {
      "cell_type": "code",
      "metadata": {
        "id": "7w89EHSD5cSr",
        "colab_type": "code",
        "outputId": "1d542852-582f-419e-d548-ce1834fe9a8a",
        "colab": {
          "base_uri": "https://localhost:8080/",
          "height": 323
        }
      },
      "source": [
        "df.count()"
      ],
      "execution_count": 143,
      "outputs": [
        {
          "output_type": "execute_result",
          "data": {
            "text/plain": [
              "name            461\n",
              "club            461\n",
              "age             461\n",
              "position        461\n",
              "position_cat    461\n",
              "market_value    461\n",
              "page_views      461\n",
              "fpl_value       461\n",
              "fpl_sel         461\n",
              "fpl_points      461\n",
              "region          460\n",
              "nationality     461\n",
              "new_foreign     461\n",
              "age_cat         461\n",
              "club_id         461\n",
              "big_club        461\n",
              "new_signing     461\n",
              "dtype: int64"
            ]
          },
          "metadata": {
            "tags": []
          },
          "execution_count": 143
        }
      ]
    },
    {
      "cell_type": "markdown",
      "metadata": {
        "id": "fuIgJFrt5zkC",
        "colab_type": "text"
      },
      "source": [
        "# Cleaning Data"
      ]
    },
    {
      "cell_type": "code",
      "metadata": {
        "id": "uHFSgrOR5s_t",
        "colab_type": "code",
        "outputId": "0f381701-b12d-44da-e489-ae8d598eb12d",
        "colab": {
          "base_uri": "https://localhost:8080/",
          "height": 323
        }
      },
      "source": [
        "# identifying null values\n",
        "df.isnull().sum()"
      ],
      "execution_count": 144,
      "outputs": [
        {
          "output_type": "execute_result",
          "data": {
            "text/plain": [
              "name            0\n",
              "club            0\n",
              "age             0\n",
              "position        0\n",
              "position_cat    0\n",
              "market_value    0\n",
              "page_views      0\n",
              "fpl_value       0\n",
              "fpl_sel         0\n",
              "fpl_points      0\n",
              "region          1\n",
              "nationality     0\n",
              "new_foreign     0\n",
              "age_cat         0\n",
              "club_id         0\n",
              "big_club        0\n",
              "new_signing     0\n",
              "dtype: int64"
            ]
          },
          "metadata": {
            "tags": []
          },
          "execution_count": 144
        }
      ]
    },
    {
      "cell_type": "code",
      "metadata": {
        "id": "6rMiVNXr54Ou",
        "colab_type": "code",
        "outputId": "41544c1b-3232-4f59-9f36-4a086bf93f5b",
        "colab": {
          "base_uri": "https://localhost:8080/",
          "height": 884
        }
      },
      "source": [
        "df['region'].tail(50)"
      ],
      "execution_count": 145,
      "outputs": [
        {
          "output_type": "execute_result",
          "data": {
            "text/plain": [
              "411    2.0\n",
              "412    4.0\n",
              "413    3.0\n",
              "414    1.0\n",
              "415    3.0\n",
              "416    2.0\n",
              "417    2.0\n",
              "418    2.0\n",
              "419    1.0\n",
              "420    2.0\n",
              "421    3.0\n",
              "422    2.0\n",
              "423    1.0\n",
              "424    2.0\n",
              "425    1.0\n",
              "426    2.0\n",
              "427    2.0\n",
              "428    2.0\n",
              "429    1.0\n",
              "430    4.0\n",
              "431    1.0\n",
              "432    3.0\n",
              "433    2.0\n",
              "434    2.0\n",
              "435    1.0\n",
              "436    1.0\n",
              "437    2.0\n",
              "438    4.0\n",
              "439    2.0\n",
              "440    3.0\n",
              "441    1.0\n",
              "442    4.0\n",
              "443    2.0\n",
              "444    4.0\n",
              "445    4.0\n",
              "446    1.0\n",
              "447    2.0\n",
              "448    2.0\n",
              "449    1.0\n",
              "450    2.0\n",
              "451    1.0\n",
              "452    2.0\n",
              "453    4.0\n",
              "454    2.0\n",
              "455    3.0\n",
              "456    2.0\n",
              "457    4.0\n",
              "458    1.0\n",
              "459    1.0\n",
              "460    4.0\n",
              "Name: region, dtype: float64"
            ]
          },
          "metadata": {
            "tags": []
          },
          "execution_count": 145
        }
      ]
    },
    {
      "cell_type": "code",
      "metadata": {
        "id": "ZA9CZg-T6Lqt",
        "colab_type": "code",
        "outputId": "1f3e9c41-1b75-4aa3-97bc-18abb87d831f",
        "colab": {
          "base_uri": "https://localhost:8080/",
          "height": 117
        }
      },
      "source": [
        "df[df.isna().any(axis=1)]"
      ],
      "execution_count": 146,
      "outputs": [
        {
          "output_type": "execute_result",
          "data": {
            "text/html": [
              "<div>\n",
              "<style scoped>\n",
              "    .dataframe tbody tr th:only-of-type {\n",
              "        vertical-align: middle;\n",
              "    }\n",
              "\n",
              "    .dataframe tbody tr th {\n",
              "        vertical-align: top;\n",
              "    }\n",
              "\n",
              "    .dataframe thead th {\n",
              "        text-align: right;\n",
              "    }\n",
              "</style>\n",
              "<table border=\"1\" class=\"dataframe\">\n",
              "  <thead>\n",
              "    <tr style=\"text-align: right;\">\n",
              "      <th></th>\n",
              "      <th>name</th>\n",
              "      <th>club</th>\n",
              "      <th>age</th>\n",
              "      <th>position</th>\n",
              "      <th>position_cat</th>\n",
              "      <th>market_value</th>\n",
              "      <th>page_views</th>\n",
              "      <th>fpl_value</th>\n",
              "      <th>fpl_sel</th>\n",
              "      <th>fpl_points</th>\n",
              "      <th>region</th>\n",
              "      <th>nationality</th>\n",
              "      <th>new_foreign</th>\n",
              "      <th>age_cat</th>\n",
              "      <th>club_id</th>\n",
              "      <th>big_club</th>\n",
              "      <th>new_signing</th>\n",
              "    </tr>\n",
              "  </thead>\n",
              "  <tbody>\n",
              "    <tr>\n",
              "      <th>188</th>\n",
              "      <td>Steve Mounie</td>\n",
              "      <td>Huddersfield</td>\n",
              "      <td>22</td>\n",
              "      <td>CF</td>\n",
              "      <td>1</td>\n",
              "      <td>5.5</td>\n",
              "      <td>56</td>\n",
              "      <td>6.0</td>\n",
              "      <td>0.60%</td>\n",
              "      <td>0</td>\n",
              "      <td>NaN</td>\n",
              "      <td>Benin</td>\n",
              "      <td>0</td>\n",
              "      <td>2</td>\n",
              "      <td>8</td>\n",
              "      <td>0</td>\n",
              "      <td>0</td>\n",
              "    </tr>\n",
              "  </tbody>\n",
              "</table>\n",
              "</div>"
            ],
            "text/plain": [
              "             name          club  age  ... club_id  big_club  new_signing\n",
              "188  Steve Mounie  Huddersfield   22  ...       8         0            0\n",
              "\n",
              "[1 rows x 17 columns]"
            ]
          },
          "metadata": {
            "tags": []
          },
          "execution_count": 146
        }
      ]
    },
    {
      "cell_type": "code",
      "metadata": {
        "id": "27hZHE8075SF",
        "colab_type": "code",
        "colab": {}
      },
      "source": [
        "# cleaning data - replacing NaN value in 'region' variable with the appropriate classification for the player\n",
        "import numpy as np\n",
        "df = df.replace(np.NaN, 4.0)"
      ],
      "execution_count": 0,
      "outputs": []
    },
    {
      "cell_type": "code",
      "metadata": {
        "id": "UyuX88Z98Bhx",
        "colab_type": "code",
        "outputId": "67b22ca4-bfb7-40b0-ac3d-8bded08c70ab",
        "colab": {
          "base_uri": "https://localhost:8080/",
          "height": 323
        }
      },
      "source": [
        "df.isnull().sum()"
      ],
      "execution_count": 148,
      "outputs": [
        {
          "output_type": "execute_result",
          "data": {
            "text/plain": [
              "name            0\n",
              "club            0\n",
              "age             0\n",
              "position        0\n",
              "position_cat    0\n",
              "market_value    0\n",
              "page_views      0\n",
              "fpl_value       0\n",
              "fpl_sel         0\n",
              "fpl_points      0\n",
              "region          0\n",
              "nationality     0\n",
              "new_foreign     0\n",
              "age_cat         0\n",
              "club_id         0\n",
              "big_club        0\n",
              "new_signing     0\n",
              "dtype: int64"
            ]
          },
          "metadata": {
            "tags": []
          },
          "execution_count": 148
        }
      ]
    },
    {
      "cell_type": "markdown",
      "metadata": {
        "id": "8spNAF2g5po2",
        "colab_type": "text"
      },
      "source": [
        "# **Visualizations**"
      ]
    },
    {
      "cell_type": "code",
      "metadata": {
        "id": "B1XM3CKU65uV",
        "colab_type": "code",
        "colab": {
          "base_uri": "https://localhost:8080/",
          "height": 262
        },
        "outputId": "6e2215de-bf99-40a3-9016-755819fef7de"
      },
      "source": [
        "import matplotlib.pyplot as plt\n",
        "import numpy as np\n",
        "plt.style.use('seaborn-whitegrid')\n",
        "\n",
        "plt.plot(df['age'], df['market_value'], 'o');"
      ],
      "execution_count": 149,
      "outputs": [
        {
          "output_type": "display_data",
          "data": {
            "image/png": "[encoded data removed]",
            "text/plain": [
              "<Figure size 432x288 with 1 Axes>"
            ]
          },
          "metadata": {
            "tags": []
          }
        }
      ]
    },
    {
      "cell_type": "code",
      "metadata": {
        "id": "alwWAsfy8SlP",
        "colab_type": "code",
        "colab": {
          "base_uri": "https://localhost:8080/",
          "height": 262
        },
        "outputId": "f64243ad-ae7b-4c0e-b6a6-be19f4289bf2"
      },
      "source": [
        "plt.plot(df['position'], df['market_value'], 'o');"
      ],
      "execution_count": 150,
      "outputs": [
        {
          "output_type": "display_data",
          "data": {
            "image/png": "[encoded data removed]",
            "text/plain": [
              "<Figure size 432x288 with 1 Axes>"
            ]
          },
          "metadata": {
            "tags": []
          }
        }
      ]
    },
    {
      "cell_type": "code",
      "metadata": {
        "id": "JpffRJ778fI-",
        "colab_type": "code",
        "colab": {
          "base_uri": "https://localhost:8080/",
          "height": 305
        },
        "outputId": "36af83ec-b31f-4781-d72f-575ca7826858"
      },
      "source": [
        "plt.plot(df['page_views'], df['market_value'], '+');\n",
        "plt.suptitle(\"Popularity Means Higher Values\", fontsize=10, verticalalignment='top', fontweight='bold', x=0.3)\n",
        "plt.title(\"Market Value by Popularity\", fontsize=10, x=0.177)\n",
        "plt.xlabel('Popularity')\n",
        "plt.ylabel('Market Value (GBP)');"
      ],
      "execution_count": 159,
      "outputs": [
        {
          "output_type": "display_data",
          "data": {
            "image/png": "[encoded data removed]",
            "text/plain": [
              "<Figure size 432x288 with 1 Axes>"
            ]
          },
          "metadata": {
            "tags": []
          }
        }
      ]
    },
    {
      "cell_type": "code",
      "metadata": {
        "id": "8ni58tEceP9w",
        "colab_type": "code",
        "colab": {
          "base_uri": "https://localhost:8080/",
          "height": 305
        },
        "outputId": "6ba77c25-8392-4c53-e466-67244fa5287c"
      },
      "source": [
        "plt.plot(df['fpl_points'], df['market_value'], '+');\n",
        "plt.suptitle(\"Market Value by Performance\", fontsize=10, verticalalignment='top', x=0.289, fontweight='bold')\n",
        "plt.title(\"2017/18 Market Value by FPL Points\", fontsize=10, x=0.248)\n",
        "plt.xlabel('Performance')\n",
        "plt.ylabel('Market Value (GBP)');"
      ],
      "execution_count": 158,
      "outputs": [
        {
          "output_type": "display_data",
          "data": {
            "image/png": "[encoded data removed]",
            "text/plain": [
              "<Figure size 432x288 with 1 Axes>"
            ]
          },
          "metadata": {
            "tags": []
          }
        }
      ]
    },
    {
      "cell_type": "code",
      "metadata": {
        "id": "E4AzFYAinrlJ",
        "colab_type": "code",
        "colab": {
          "base_uri": "https://localhost:8080/",
          "height": 305
        },
        "outputId": "5022f53e-45b2-4dfa-d79c-699a3bec1df0"
      },
      "source": [
        "plt.scatter(df['fpl_points'], df['market_value'], alpha=0.3, s=df['page_views']/5, c=df['age'], cmap='viridis');\n",
        "plt.colorbar()\n",
        "# ax.set_title(\"Big scorers, big earners\", fontsize=20, fontweight='bold')\n",
        "plt.suptitle(\"Value Is Influenced By Several Factors\", fontsize=10, verticalalignment='top', fontweight='bold', x=0.34)\n",
        "plt.title(\"Market Value by FPL points, Age, Wiki Page Views\", fontsize=10, x=0.425)\n",
        "plt.xlabel('Performance')\n",
        "plt.ylabel('Market Value (GBP)');"
      ],
      "execution_count": 157,
      "outputs": [
        {
          "output_type": "display_data",
          "data": {
            "image/png": "[encoded data removed]",
            "text/plain": [
              "<Figure size 432x288 with 2 Axes>"
            ]
          },
          "metadata": {
            "tags": []
          }
        }
      ]
    },
    {
      "cell_type": "code",
      "metadata": {
        "id": "Uu2O7bxHf-un",
        "colab_type": "code",
        "colab": {
          "base_uri": "https://localhost:8080/",
          "height": 269
        },
        "outputId": "8ffa084a-e9e4-40e8-8e3a-049ff5b3109c"
      },
      "source": [
        "df['age'].plot.bar(color='C1');"
      ],
      "execution_count": 155,
      "outputs": [
        {
          "output_type": "display_data",
          "data": {
            "image/png": "[encoded data removed]",
            "text/plain": [
              "<Figure size 432x288 with 1 Axes>"
            ]
          },
          "metadata": {
            "tags": []
          }
        }
      ]
    },
    {
      "cell_type": "code",
      "metadata": {
        "id": "cAvY7GOx9yaq",
        "colab_type": "code",
        "colab": {
          "base_uri": "https://localhost:8080/",
          "height": 305
        },
        "outputId": "5dbaf57f-92bb-44d9-f672-427717dce94f"
      },
      "source": [
        "plt.hist(df['age'], bins=20, color='gray', alpha=0.8, rwidth=0.85);\n",
        "plt.suptitle(\"Value Peaks With Age\", fontsize=10, verticalalignment='top', fontweight='bold', x=0.248)\n",
        "plt.title(\"2017/18 Market Value by Age\", fontsize=10, x=0.202)\n",
        "plt.grid(axis='y', alpha=0.75)\n",
        "plt.xlabel('Age (years)')\n",
        "plt.ylabel('Market Value (GBP)');"
      ],
      "execution_count": 156,
      "outputs": [
        {
          "output_type": "display_data",
          "data": {
            "image/png": "[encoded data removed]",
            "text/plain": [
              "<Figure size 432x288 with 1 Axes>"
            ]
          },
          "metadata": {
            "tags": []
          }
        }
      ]
    },
    {
      "cell_type": "code",
      "metadata": {
        "id": "hH5HMoWJp4cV",
        "colab_type": "code",
        "colab": {
          "base_uri": "https://localhost:8080/",
          "height": 262
        },
        "outputId": "60c7e185-e04e-46ad-92d1-3f15d67c6e05"
      },
      "source": [
        "plt.hist(df['big_'], bins=20);"
      ],
      "execution_count": 24,
      "outputs": [
        {
          "output_type": "display_data",
          "data": {
            "image/png": "[encoded data removed]",
            "text/plain": [
              "<Figure size 432x288 with 1 Axes>"
            ]
          },
          "metadata": {
            "tags": []
          }
        }
      ]
    },
    {
      "cell_type": "code",
      "metadata": {
        "id": "cDHEKpEJFqWh",
        "colab_type": "code",
        "colab": {
          "base_uri": "https://localhost:8080/",
          "height": 276
        },
        "outputId": "9fbdc23e-9dc7-4fba-8b6f-36dcfb3ed81e"
      },
      "source": [
        "plt.hist(df['market_value'], bins=70);\n",
        "plt.xlabel('Market Value (GBP)')\n",
        "plt.ylabel('Frequency');"
      ],
      "execution_count": 90,
      "outputs": [
        {
          "output_type": "display_data",
          "data": {
            "image/png": "[encoded data removed]",
            "text/plain": [
              "<Figure size 432x288 with 1 Axes>"
            ]
          },
          "metadata": {
            "tags": []
          }
        }
      ]
    },
    {
      "cell_type": "code",
      "metadata": {
        "id": "M3SEQ3ymPYRp",
        "colab_type": "code",
        "colab": {}
      },
      "source": [
        ""
      ],
      "execution_count": 0,
      "outputs": []
    }
  ]
}